{
  "nbformat": 4,
  "nbformat_minor": 0,
  "metadata": {
    "colab": {
      "name": "오차역전파.ipynb",
      "provenance": [],
      "authorship_tag": "ABX9TyNpLQDb1U4AzDGhS0wo+UW7",
      "include_colab_link": true
    },
    "kernelspec": {
      "name": "python3",
      "display_name": "Python 3"
    },
    "language_info": {
      "name": "python"
    }
  },
  "cells": [
    {
      "cell_type": "markdown",
      "metadata": {
        "id": "view-in-github",
        "colab_type": "text"
      },
      "source": [
        "<a href=\"https://colab.research.google.com/github/zihoonkim/practice/blob/main/%EC%98%A4%EC%B0%A8%EC%97%AD%EC%A0%84%ED%8C%8C.ipynb\" target=\"_parent\"><img src=\"https://colab.research.google.com/assets/colab-badge.svg\" alt=\"Open In Colab\"/></a>"
      ]
    },
    {
      "cell_type": "code",
      "execution_count": 1,
      "metadata": {
        "id": "gnoz6nhgkR5G"
      },
      "outputs": [],
      "source": [
        "# 필요한 라이브러리 불러오기\n",
        "import tensorflow as tf\n",
        "from tensorflow import keras\n",
        "import numpy as np\n",
        "import matplotlib.pyplot as plt"
      ]
    },
    {
      "cell_type": "code",
      "source": [
        "# 단일 레이어 구현 함수\n",
        "def affine_layer_forward(X, W, b):\n",
        "    y = np.dot(X, W) + b\n",
        "    cache = (X, W, b)\n",
        "    return y, cache\n",
        "\n",
        "print('✔')"
      ],
      "metadata": {
        "id": "5gEpk0-Gobg-"
      },
      "execution_count": 3,
      "outputs": []
    },
    {
      "cell_type": "code",
      "source": [
        "# sigmoid 함수를 구현해 봅니다.\n",
        "def sigmoid(x):\n",
        "    return 1 / (1 + np.exp(-x))  \n",
        "\n",
        "print('✔')\n",
        "\n",
        "# softmax함수를 구현해 봅니다.\n",
        "def softmax(x):\n",
        "    if x.ndim == 2:\n",
        "        x = x.T\n",
        "        x = x - np.max(x, axis=0)\n",
        "        y = np.exp(x) / np.sum(np.exp(x), axis=0)\n",
        "        return y.T \n",
        "\n",
        "print('✔')\n",
        "\n",
        "# 정답 라벨을 One-hot 인코딩하는 함수\n",
        "def _change_one_hot_label(X, num_category): ## 여기서 x는 정답 array\n",
        "    T = np.zeros((X.size, num_category))\n",
        "    for idx, row in enumerate(T):\n",
        "        row[X[idx]] = 1\n",
        "        \n",
        "    return T"
      ],
      "metadata": {
        "colab": {
          "base_uri": "https://localhost:8080/"
        },
        "id": "JsgnhlnMrXgL",
        "outputId": "96f3fab4-7d3e-442d-ad43-03236a81a8d6"
      },
      "execution_count": 11,
      "outputs": [
        {
          "output_type": "stream",
          "name": "stdout",
          "text": [
            "✔\n",
            "✔\n"
          ]
        }
      ]
    },
    {
      "cell_type": "code",
      "source": [
        "def cross_entropy_error(y, t):\n",
        "    if y.ndim == 1:\n",
        "        t = t.reshape(1, t.size)\n",
        "        y = y.reshape(1, y.size)\n",
        "        \n",
        "    # 훈련 데이터가 원-핫 벡터라면 정답 레이블의 인덱스로 반환\n",
        "    if t.size == y.size:\n",
        "        t = t.argmax(axis=1)\n",
        "             \n",
        "    batch_size = y.shape[0]\n",
        "    return -np.sum(np.log(y[np.arange(batch_size), t])) / batch_size\n",
        "\n",
        "print('✔')"
      ],
      "metadata": {
        "colab": {
          "base_uri": "https://localhost:8080/"
        },
        "id": "tW2FEoPUs_k8",
        "outputId": "0e23581c-ebb1-4636-f96e-b9d1df914294"
      },
      "execution_count": 4,
      "outputs": [
        {
          "output_type": "stream",
          "name": "stdout",
          "text": [
            "✔\n"
          ]
        }
      ]
    },
    {
      "cell_type": "code",
      "source": [
        "def sigmoid_grad(x):\n",
        "    return (1.0 - sigmoid(x)) * sigmoid(x)\n",
        "\n",
        "print('✔')"
      ],
      "metadata": {
        "colab": {
          "base_uri": "https://localhost:8080/"
        },
        "id": "1NIpvI2DwSps",
        "outputId": "f3af98b6-afcc-46eb-8118-e2c7ee723da1"
      },
      "execution_count": 5,
      "outputs": [
        {
          "output_type": "stream",
          "name": "stdout",
          "text": [
            "✔\n"
          ]
        }
      ]
    },
    {
      "cell_type": "code",
      "source": [
        "def update_params(W1, b1, W2, b2, dW1, db1, dW2, db2, learning_rate):\n",
        "    W1 = W1 - learning_rate*dW1\n",
        "    b1 = b1 - learning_rate*db1\n",
        "    W2 = W2 - learning_rate*dW2\n",
        "    b2 = b2 - learning_rate*db2\n",
        "    return W1, b1, W2, b2\n",
        "\n",
        "print('✔')"
      ],
      "metadata": {
        "colab": {
          "base_uri": "https://localhost:8080/"
        },
        "id": "Cq-IAmYKwUGj",
        "outputId": "20fb1622-bf5b-459e-9621-a0641fc36822"
      },
      "execution_count": 6,
      "outputs": [
        {
          "output_type": "stream",
          "name": "stdout",
          "text": [
            "✔\n"
          ]
        }
      ]
    },
    {
      "cell_type": "code",
      "source": [
        "def affine_layer_backward(dy, cache):\n",
        "    X, W, b = cache\n",
        "    dX = np.dot(dy, W.T)\n",
        "    dW = np.dot(X.T, dy)\n",
        "    db = np.sum(dy, axis=0)\n",
        "    return dX, dW, db\n",
        "\n",
        "print('✔')"
      ],
      "metadata": {
        "colab": {
          "base_uri": "https://localhost:8080/"
        },
        "id": "EtrP0rIMwYS-",
        "outputId": "cc3a923f-7137-4d10-b747-26c44f177b8d"
      },
      "execution_count": 7,
      "outputs": [
        {
          "output_type": "stream",
          "name": "stdout",
          "text": [
            "✔\n"
          ]
        }
      ]
    },
    {
      "cell_type": "code",
      "source": [
        "# MNIST 데이터를 로드. 다운로드하지 않았다면 다운로드까지 자동으로 진행됩니다. \n",
        "mnist = keras.datasets.mnist\n",
        "(x_train, y_train), (x_test, y_test) = mnist.load_data()   \n",
        "\n",
        "# 모델에 맞게 데이터 가공\n",
        "x_train_norm, x_test_norm = x_train / 255.0, x_test / 255.0\n",
        "x_train_reshaped = x_train_norm.reshape(-1, x_train_norm.shape[1]*x_train_norm.shape[2])\n",
        "x_test_reshaped = x_test_norm.reshape(-1, x_test_norm.shape[1]*x_test_norm.shape[2])\n",
        "\n",
        "# 테스트를 위해 x_train_reshaped의 앞 5개의 데이터를 가져온다.\n",
        "X = x_train_reshaped[:5]\n",
        "print(X.shape)"
      ],
      "metadata": {
        "colab": {
          "base_uri": "https://localhost:8080/"
        },
        "id": "sZvwBL4HwZ1z",
        "outputId": "e050a81c-e688-43e2-997c-e043760d8c01"
      },
      "execution_count": 8,
      "outputs": [
        {
          "output_type": "stream",
          "name": "stdout",
          "text": [
            "Downloading data from https://storage.googleapis.com/tensorflow/tf-keras-datasets/mnist.npz\n",
            "11493376/11490434 [==============================] - 0s 0us/step\n",
            "11501568/11490434 [==============================] - 0s 0us/step\n",
            "(5, 784)\n"
          ]
        }
      ]
    },
    {
      "cell_type": "code",
      "source": [
        "weight_init_std = 0.1\n",
        "input_size = 784\n",
        "hidden_size=50\n",
        "output_size = 10\n",
        "Y_digit = y_train[:5]\n",
        "\n",
        "# 파라미터 초기화\n",
        "W1 = weight_init_std * np.random.randn(input_size, hidden_size) # 첫번째 가중치를 만들기 위해 std에 784 * 50 차원의 난수를 만들어\n",
        "b1 = np.zeros(hidden_size)  ## hidden size에 bias를 넣기 위해\n",
        "W2 = weight_init_std * np.random.randn(hidden_size, output_size) # 두번째 처리를 위해 50 * 10 차원 만들고\n",
        "b2 = np.zeros(output_size) # 결과값에 bias 넣기 위해 설정해 \n",
        "\n",
        "# Forward Propagation\n",
        "a1, cache1 = affine_layer_forward(X, W1, b1)  # 이 과정을 통해  y = np.dot(x, w1) +b1의 식을 만들고\n",
        "z1 = sigmoid(a1) # 위의 결과값 y 즉 ai을 활성화 함수를 지나기 위해 시그모이드를 지나\n",
        "a2, cache2 = affine_layer_forward(z1, W2, b2) # 여기서는 입력층이 z1이 되니까 z1으로 위의 과정 다시\n",
        "\n",
        "# 추론과 오차(Loss) 계산\n",
        "y_hat = softmax(a2)  # 출력값을 보기 위한 softmax 함수를 만들어 예측값 y_hat을 만들고 \n",
        "t = _change_one_hot_label(Y_digit, 10)   # 정답 One-hot 인코딩\n",
        "Loss = cross_entropy_error(y_hat, t)\n",
        "\n",
        "print(y_hat)\n",
        "print(t)\n",
        "print('Loss: ', Loss)\n",
        "        \n",
        "dy = (y_hat - t) / X.shape[0]\n",
        "dz1, dW2, db2 = affine_layer_backward(dy, cache2)\n",
        "da1 = sigmoid_grad(a1) * dz1\n",
        "dX, dW1, db1 = affine_layer_backward(da1, cache1)\n",
        "\n",
        "# 경사하강법을 통한 파라미터 업데이트    \n",
        "learning_rate = 0.1\n",
        "print('계산해서 나온 더하거나 뺄 값')\n",
        "print(dW2[0])\n",
        "print('오차역전법 수행전')\n",
        "print(W2[0])\n",
        "W1, b1, W2, b2 = update_params(W1, b1, W2, b2, dW1, db1, dW2, db2, learning_rate)\n",
        "print('오차역전법 수행후')\n",
        "print(W2[0])"
      ],
      "metadata": {
        "colab": {
          "base_uri": "https://localhost:8080/"
        },
        "id": "uJADFs36wcHb",
        "outputId": "d9faff82-ed7f-4d95-87e3-9ce9990712ce"
      },
      "execution_count": 22,
      "outputs": [
        {
          "output_type": "stream",
          "name": "stdout",
          "text": [
            "[[0.08060149 0.10585844 0.13861279 0.06849028 0.06659322 0.06420037\n",
            "  0.12514785 0.12479501 0.06698774 0.1587128 ]\n",
            " [0.09007495 0.09798632 0.09987315 0.06888219 0.0818047  0.09882861\n",
            "  0.11802486 0.12127207 0.09088263 0.13237052]\n",
            " [0.09166593 0.09517062 0.13842931 0.06203884 0.06222869 0.07799161\n",
            "  0.12111158 0.1319341  0.07414651 0.14528282]\n",
            " [0.08848303 0.09028792 0.14204249 0.07095549 0.06908566 0.06767796\n",
            "  0.1062082  0.10615592 0.07406343 0.18503989]\n",
            " [0.10270132 0.10071223 0.10753474 0.06498927 0.07315781 0.09521317\n",
            "  0.10810333 0.10905437 0.07730073 0.16123303]]\n",
            "[[0. 0. 0. 0. 0. 1. 0. 0. 0. 0.]\n",
            " [1. 0. 0. 0. 0. 0. 0. 0. 0. 0.]\n",
            " [0. 0. 0. 0. 1. 0. 0. 0. 0. 0.]\n",
            " [0. 1. 0. 0. 0. 0. 0. 0. 0. 0.]\n",
            " [0. 0. 0. 0. 0. 0. 0. 0. 0. 1.]]\n",
            "Loss:  2.431890988888254\n",
            "계산해서 나온 더하거나 뺄 값\n",
            "[-0.02819456 -0.085213    0.04613494  0.02427742 -0.04887363 -0.0197574\n",
            "  0.04104381  0.04207387  0.02751116  0.00099739]\n",
            "오차역전법 수행전\n",
            "[-0.0706738  -0.07715706  0.03843812 -0.03977835 -0.05058867 -0.14830001\n",
            "  0.01164653  0.04819568 -0.12758543  0.11742395]\n",
            "오차역전법 수행후\n",
            "[-0.06785434 -0.06863576  0.03382463 -0.04220609 -0.04570131 -0.14632427\n",
            "  0.00754215  0.04398829 -0.13033654  0.11732421]\n"
          ]
        }
      ]
    },
    {
      "cell_type": "code",
      "source": [
        ""
      ],
      "metadata": {
        "id": "_gm2BIDl0nx7"
      },
      "execution_count": null,
      "outputs": []
    }
  ]
}